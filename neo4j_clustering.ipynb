{
 "cells": [
  {
   "cell_type": "code",
   "execution_count": 9,
   "metadata": {
    "collapsed": false
   },
   "outputs": [],
   "source": [
    "from neo4jrestclient.client import GraphDatabase\n",
    "from neo4jrestclient import client\n",
    "import re\n",
    "import matplotlib.pyplot as plt\n",
    "import seaborn as sns\n",
    "import pickle\n",
    "\n",
    "from mcl.mcl_clustering import networkx_mcl\n",
    "\n",
    "import networkx as nx"
   ]
  },
  {
   "cell_type": "code",
   "execution_count": 2,
   "metadata": {
    "collapsed": true
   },
   "outputs": [],
   "source": [
    "gdb = GraphDatabase(\n",
    "    \"http://ec2-52-23-203-124.compute-1.amazonaws.com:7474/db/data\",\n",
    "    username=\"neo4j\", password=\"neo4j2\")"
   ]
  },
  {
   "cell_type": "code",
   "execution_count": 3,
   "metadata": {
    "collapsed": true
   },
   "outputs": [],
   "source": [
    "def displayGraph(graph, title='', color_values = None):\n",
    "    pos = nx.spring_layout(graph)\n",
    "    nx.draw_networkx_edges(graph, pos, arrows=True)\n",
    "    nx.draw_networkx_nodes(graph, pos, cmap=plt.cm.Blues, node_color = color_values, alpha=0.8)\n",
    "\n",
    "    nx.draw_networkx_labels(graph,pos)\n",
    "    plt.title(title)\n",
    "    plt.show()"
   ]
  },
  {
   "cell_type": "code",
   "execution_count": 7,
   "metadata": {
    "collapsed": true
   },
   "outputs": [],
   "source": [
    "zipcode = '06901'\n",
    "city = 'STAMFORD'"
   ]
  },
  {
   "cell_type": "code",
   "execution_count": 29,
   "metadata": {
    "collapsed": false
   },
   "outputs": [
    {
     "name": "stdout",
     "output_type": "stream",
     "text": [
      "got 2152 results\n",
      "1\n"
     ]
    }
   ],
   "source": [
    "# q = 'match (p:Physician)-[r]-(p2:Physician) where p.city = \"' + city + '\" RETURN p,r,p2'\n",
    "q = 'match (p:Physician) where p.city = \"' + city + '\" RETURN p'\n",
    "results = gdb.query(q)\n",
    "print 'got', len(results), 'results'\n",
    "print len(results[0])"
   ]
  },
  {
   "cell_type": "code",
   "execution_count": 31,
   "metadata": {
    "collapsed": false
   },
   "outputs": [
    {
     "name": "stdout",
     "output_type": "stream",
     "text": [
      "[u'traverse', u'outgoing_typed_relationships', u'create_relationship', u'self', u'labels', u'all_typed_relationships', u'paged_traverse', u'outgoing_relationships', u'all_relationships', u'incoming_typed_relationships', u'incoming_relationships', u'property', u'data', u'properties', u'metadata']\n"
     ]
    }
   ],
   "source": [
    "print results[0][0].keys()"
   ]
  },
  {
   "cell_type": "code",
   "execution_count": 10,
   "metadata": {
    "collapsed": true
   },
   "outputs": [],
   "source": [
    "pickle.dump(results, open('stamford.p', 'wb'))\n",
    "\n",
    "# for r in results:\n",
    "#     #print r[0]\n",
    "#     print r[0].properties\n",
    "#     print r[1]['data']\n",
    "#     print r[1]\n",
    "#     print len(r)\n",
    "#     print '----'"
   ]
  },
  {
   "cell_type": "code",
   "execution_count": 40,
   "metadata": {
    "collapsed": false,
    "scrolled": false
   },
   "outputs": [
    {
     "ename": "NameError",
     "evalue": "global name 're' is not defined",
     "output_type": "error",
     "traceback": [
      "\u001b[0;31m---------------------------------------------------------------------------\u001b[0m",
      "\u001b[0;31mNameError\u001b[0m                                 Traceback (most recent call last)",
      "\u001b[0;32m<ipython-input-40-b5e411f4f228>\u001b[0m in \u001b[0;36m<module>\u001b[0;34m()\u001b[0m\n\u001b[1;32m     49\u001b[0m \u001b[0;32mfrom\u001b[0m \u001b[0mutils\u001b[0m \u001b[0;32mimport\u001b[0m \u001b[0mparse_neo4j_to_nx\u001b[0m\u001b[0;34m\u001b[0m\u001b[0m\n\u001b[1;32m     50\u001b[0m \u001b[0;34m\u001b[0m\u001b[0m\n\u001b[0;32m---> 51\u001b[0;31m \u001b[0mgraph\u001b[0m \u001b[0;34m=\u001b[0m \u001b[0mparse_neo4j_to_nx\u001b[0m\u001b[0;34m(\u001b[0m\u001b[0mmanhattan\u001b[0m\u001b[0;34m)\u001b[0m\u001b[0;34m\u001b[0m\u001b[0m\n\u001b[0m\u001b[1;32m     52\u001b[0m \u001b[0mdisplayGraph\u001b[0m\u001b[0;34m(\u001b[0m\u001b[0mgraph\u001b[0m\u001b[0;34m)\u001b[0m\u001b[0;34m\u001b[0m\u001b[0m\n",
      "\u001b[0;32m/Users/gryan/Documents/School/Columbia/bigdata_e6895/project/neo4jdeeplearning/utils.py\u001b[0m in \u001b[0;36mparse_neo4j_to_nx\u001b[0;34m(results)\u001b[0m\n\u001b[1;32m      1\u001b[0m \u001b[0;32mimport\u001b[0m \u001b[0mnetworkx\u001b[0m \u001b[0;32mas\u001b[0m \u001b[0mnx\u001b[0m\u001b[0;34m\u001b[0m\u001b[0m\n\u001b[0;32m----> 2\u001b[0;31m \u001b[0;34m\u001b[0m\u001b[0m\n\u001b[0m\u001b[1;32m      3\u001b[0m \u001b[0;32mdef\u001b[0m \u001b[0mparse_neo4j_to_nx\u001b[0m\u001b[0;34m(\u001b[0m\u001b[0mresults\u001b[0m\u001b[0;34m)\u001b[0m\u001b[0;34m:\u001b[0m\u001b[0;34m\u001b[0m\u001b[0m\n\u001b[1;32m      4\u001b[0m     \u001b[0;31m#id_pattern = re.compile(r\".+/(\\d+)$\")\u001b[0m\u001b[0;34m\u001b[0m\u001b[0;34m\u001b[0m\u001b[0m\n\u001b[1;32m      5\u001b[0m     \u001b[0mG\u001b[0m \u001b[0;34m=\u001b[0m \u001b[0mnx\u001b[0m\u001b[0;34m.\u001b[0m\u001b[0mDiGraph\u001b[0m\u001b[0;34m(\u001b[0m\u001b[0;34m)\u001b[0m\u001b[0;34m\u001b[0m\u001b[0m\n",
      "\u001b[0;31mNameError\u001b[0m: global name 're' is not defined"
     ]
    }
   ],
   "source": [
    "# def parse_neo4j_to_nx(results):\n",
    "#     id_pattern = re.compile(r\".+/(\\d+)$\")\n",
    "#     G = nx.DiGraph()\n",
    "    \n",
    "#     neo4j2node = {}\n",
    "    \n",
    "#     # first pass add nodes\n",
    "#     num_nodes = 0\n",
    "#     for r in results:\n",
    "# #         print r[0]\n",
    "# #         node_id = id_pattern.search(r[1]['start']).group(1)\n",
    "#         node_id = r[0].id\n",
    "#         if node_id not in G:\n",
    "# #             print 'adding',node_id\n",
    "#             neo4j2node[node_id] = num_nodes\n",
    "#             G.add_node(node_id, \n",
    "# #                        neo4j_id=node_id,\n",
    "# #                        city=r[0]['city'],\n",
    "# #                                 firstName=r[0]['firstName'],\n",
    "# #                                 lastName=r[0]['lastName'],\n",
    "#                                 taxonomyCode=r[0].properties['taxonomyCode'])\n",
    "#             num_nodes += 1\n",
    "\n",
    "    \n",
    "#     # now add edges\n",
    "#     num_edges = 0\n",
    "#     for r in results:\n",
    "# #         node_id = id_pattern.search(r[1]['start']).group(1)\n",
    "# #         to_id = id_pattern.search(r[1]['end']).group(1)\n",
    "# #         edge_id = id_pattern.search(r[1]['self']).group(1)\n",
    "#         node_id = r[0].id\n",
    "#         to_id = r[2].id\n",
    "#         edge_id = r[1].id\n",
    "        \n",
    "# #         start = neo4j2node[node_id]\n",
    "# #         if to_id in neo4j2node:\n",
    "# #             end = neo4j2node[to_id]\n",
    "# #         print node_id, node_id in G, to_id, to_id in G\n",
    "# #         if (start in G and end in G):\n",
    "#         if (node_id in G and to_id in G):\n",
    "#     #             print 'adding edge',node_id,to_id\n",
    "#                 num_edges += 1\n",
    "#                 G.add_edge(node_id, to_id, edge_id=edge_id)\n",
    "# #                 G.add_edge(start, end, edge_id=edge_id)\n",
    "        \n",
    "#     print 'nodes:', num_nodes, 'edges:', num_edges\n",
    "#     return G\n",
    "\n",
    "from utils import parse_neo4j_to_nx\n",
    "        \n",
    "graph = parse_neo4j_to_nx(manhattan)\n",
    "displayGraph(graph)"
   ]
  },
  {
   "cell_type": "code",
   "execution_count": 15,
   "metadata": {
    "collapsed": false
   },
   "outputs": [
    {
     "name": "stdout",
     "output_type": "stream",
     "text": [
      "{0: [0, 13, 22, 25, 29, 43, 58], 1: [1, 12], 2: [2, 12], 3: [3, 12], 4: [4, 12], 5: [5, 12], 6: [6, 12], 7: [7, 12], 8: [8, 12], 9: [9, 12], 10: [2, 8, 10, 16, 43], 11: [11, 12], 12: [1, 2, 3, 4, 5, 6, 7, 9, 11, 12, 13, 14, 15, 18, 19, 20, 21, 22, 25, 26, 27, 28, 29, 30, 32, 33, 34, 36, 37, 38, 39, 40, 42, 43, 44, 47, 48, 49, 50, 56, 57, 58, 60], 13: [0, 12, 13], 14: [12, 14], 15: [12, 15], 16: [10, 16, 23, 24], 17: [12, 17], 18: [12, 18], 19: [12, 19], 20: [12, 20], 21: [12, 21], 22: [0, 12, 22], 23: [16, 23, 43], 24: [16, 24, 43], 25: [0, 12, 25], 26: [12, 26], 27: [12, 27], 28: [12, 28], 29: [0, 12, 29], 30: [12, 30], 31: [12, 31], 32: [12, 32], 33: [12, 33], 34: [12, 24, 34], 35: [12, 35], 36: [12, 36], 37: [12, 37], 38: [12, 38], 39: [12, 39], 40: [12, 40], 41: [12, 41], 42: [12, 42], 43: [0, 10, 12, 23, 24, 43, 59], 44: [12, 44], 45: [12, 45], 46: [12, 46], 47: [12, 47], 48: [12, 48], 49: [12, 49], 50: [12, 50], 51: [12, 51], 52: [12, 52], 53: [12, 53], 54: [0, 54], 55: [12, 55], 56: [12, 56], 57: [12, 57], 58: [12, 23, 58], 59: [43, 59], 60: [12, 60]}\n"
     ]
    }
   ],
   "source": [
    "M, clusters = networkx_mcl(graph, expand_factor=1)\n",
    "print clusters"
   ]
  },
  {
   "cell_type": "code",
   "execution_count": 22,
   "metadata": {
    "collapsed": false
   },
   "outputs": [
    {
     "name": "stdout",
     "output_type": "stream",
     "text": [
      "[<Neo4j Node: http://ec2-52-23-203-124.compute-1.amazonaws.com:7474/db/data/node/1861>, <Neo4j Relationship: http://ec2-52-23-203-124.compute-1.amazonaws.com:7474/db/data/relationship/54254597>, <Neo4j Node: http://ec2-52-23-203-124.compute-1.amazonaws.com:7474/db/data/node/809378>]\n"
     ]
    }
   ],
   "source": [
    "# try loading file\n",
    "manhattan = pickle.load(open('manhattan_physicians.p', 'rb'))\n",
    "print manhattan[0]"
   ]
  },
  {
   "cell_type": "code",
   "execution_count": 36,
   "metadata": {
    "collapsed": false
   },
   "outputs": [
    {
     "data": {
      "text/plain": [
       "u'213E00000X'"
      ]
     },
     "execution_count": 36,
     "metadata": {},
     "output_type": "execute_result"
    }
   ],
   "source": [
    "n =  manhattan[0][0]\n",
    "n.properties['taxonomyCode']"
   ]
  },
  {
   "cell_type": "code",
   "execution_count": 16,
   "metadata": {
    "collapsed": false
   },
   "outputs": [
    {
     "name": "stdout",
     "output_type": "stream",
     "text": [
      "[<Neo4j Node: http://ec2-52-23-203-124.compute-1.amazonaws.com:7474/db/data/node/1861>, <Neo4j Relationship: http://ec2-52-23-203-124.compute-1.amazonaws.com:7474/db/data/relationship/54254597>, <Neo4j Node: http://ec2-52-23-203-124.compute-1.amazonaws.com:7474/db/data/node/809378>]\n"
     ]
    },
    {
     "ename": "NotFoundError",
     "evalue": "Code [404]: Not Found. Nothing matches the given URI.\nNode or propery not found",
     "output_type": "error",
     "traceback": [
      "\u001b[0;31m---------------------------------------------------------------------------\u001b[0m",
      "\u001b[0;31mNotFoundError\u001b[0m                             Traceback (most recent call last)",
      "\u001b[0;32m<ipython-input-16-c7b56aea96f0>\u001b[0m in \u001b[0;36m<module>\u001b[0;34m()\u001b[0m\n\u001b[0;32m----> 1\u001b[0;31m \u001b[0mg\u001b[0m \u001b[0;34m=\u001b[0m \u001b[0mparse_neo4j_to_nx\u001b[0m\u001b[0;34m(\u001b[0m\u001b[0mmanhattan\u001b[0m\u001b[0;34m)\u001b[0m\u001b[0;34m\u001b[0m\u001b[0m\n\u001b[0m",
      "\u001b[0;32m<ipython-input-13-c30579d43c1c>\u001b[0m in \u001b[0;36mparse_neo4j_to_nx\u001b[0;34m(results)\u001b[0m\n\u001b[1;32m      9\u001b[0m     \u001b[0;32mfor\u001b[0m \u001b[0mr\u001b[0m \u001b[0;32min\u001b[0m \u001b[0mresults\u001b[0m\u001b[0;34m:\u001b[0m\u001b[0;34m\u001b[0m\u001b[0m\n\u001b[1;32m     10\u001b[0m         \u001b[0;32mprint\u001b[0m \u001b[0mr\u001b[0m\u001b[0;34m\u001b[0m\u001b[0m\n\u001b[0;32m---> 11\u001b[0;31m         \u001b[0mnode_id\u001b[0m \u001b[0;34m=\u001b[0m \u001b[0mid_pattern\u001b[0m\u001b[0;34m.\u001b[0m\u001b[0msearch\u001b[0m\u001b[0;34m(\u001b[0m\u001b[0mr\u001b[0m\u001b[0;34m[\u001b[0m\u001b[0;36m1\u001b[0m\u001b[0;34m]\u001b[0m\u001b[0;34m[\u001b[0m\u001b[0;34m'start'\u001b[0m\u001b[0;34m]\u001b[0m\u001b[0;34m)\u001b[0m\u001b[0;34m.\u001b[0m\u001b[0mgroup\u001b[0m\u001b[0;34m(\u001b[0m\u001b[0;36m1\u001b[0m\u001b[0;34m)\u001b[0m\u001b[0;34m\u001b[0m\u001b[0m\n\u001b[0m\u001b[1;32m     12\u001b[0m         \u001b[0;32mif\u001b[0m \u001b[0mnode_id\u001b[0m \u001b[0;32mnot\u001b[0m \u001b[0;32min\u001b[0m \u001b[0mG\u001b[0m\u001b[0;34m:\u001b[0m\u001b[0;34m\u001b[0m\u001b[0m\n\u001b[1;32m     13\u001b[0m \u001b[0;31m#             print 'adding',node_id\u001b[0m\u001b[0;34m\u001b[0m\u001b[0;34m\u001b[0m\u001b[0m\n",
      "\u001b[0;32m/usr/local/lib/python2.7/site-packages/neo4jrestclient/client.pyc\u001b[0m in \u001b[0;36m__getitem__\u001b[0;34m(self, key, tx)\u001b[0m\n\u001b[1;32m    839\u001b[0m             \u001b[0;32melse\u001b[0m\u001b[0;34m:\u001b[0m\u001b[0;34m\u001b[0m\u001b[0m\n\u001b[1;32m    840\u001b[0m                 raise NotFoundError(response.status_code,\n\u001b[0;32m--> 841\u001b[0;31m                                     \"Node or propery not found\")\n\u001b[0m\u001b[1;32m    842\u001b[0m         \u001b[0;32mif\u001b[0m \u001b[0moptions\u001b[0m\u001b[0;34m.\u001b[0m\u001b[0mSMART_DATES\u001b[0m\u001b[0;34m:\u001b[0m\u001b[0;34m\u001b[0m\u001b[0m\n\u001b[1;32m    843\u001b[0m             \u001b[0;32mreturn\u001b[0m \u001b[0mBase\u001b[0m\u001b[0;34m.\u001b[0m\u001b[0m_safe_string\u001b[0m\u001b[0;34m(\u001b[0m\u001b[0mself\u001b[0m\u001b[0;34m.\u001b[0m\u001b[0m_dic\u001b[0m\u001b[0;34m[\u001b[0m\u001b[0;34m\"data\"\u001b[0m\u001b[0;34m]\u001b[0m\u001b[0;34m[\u001b[0m\u001b[0mkey\u001b[0m\u001b[0;34m]\u001b[0m\u001b[0;34m)\u001b[0m\u001b[0;34m\u001b[0m\u001b[0m\n",
      "\u001b[0;31mNotFoundError\u001b[0m: Code [404]: Not Found. Nothing matches the given URI.\nNode or propery not found"
     ]
    }
   ],
   "source": [
    "g = parse_neo4j_to_nx(manhattan)"
   ]
  }
 ],
 "metadata": {
  "kernelspec": {
   "display_name": "Python 2",
   "language": "python",
   "name": "python2"
  },
  "language_info": {
   "codemirror_mode": {
    "name": "ipython",
    "version": 2
   },
   "file_extension": ".py",
   "mimetype": "text/x-python",
   "name": "python",
   "nbconvert_exporter": "python",
   "pygments_lexer": "ipython2",
   "version": "2.7.12"
  }
 },
 "nbformat": 4,
 "nbformat_minor": 2
}
